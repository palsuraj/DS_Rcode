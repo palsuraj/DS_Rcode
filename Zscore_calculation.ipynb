{
  "nbformat": 4,
  "nbformat_minor": 0,
  "metadata": {
    "colab": {
      "name": "Zscore calculation.ipynb",
      "provenance": [],
      "authorship_tag": "ABX9TyPsJ2pekR/lrdUk9xuO4N/g",
      "include_colab_link": true
    },
    "kernelspec": {
      "name": "python3",
      "display_name": "Python 3"
    },
    "language_info": {
      "name": "python"
    }
  },
  "cells": [
    {
      "cell_type": "markdown",
      "metadata": {
        "id": "view-in-github",
        "colab_type": "text"
      },
      "source": [
        "<a href=\"https://colab.research.google.com/github/YG-0/DS_Rcodes/blob/main/Zscore_calculation.ipynb\" target=\"_parent\"><img src=\"https://colab.research.google.com/assets/colab-badge.svg\" alt=\"Open In Colab\"/></a>"
      ]
    },
    {
      "cell_type": "code",
      "metadata": {
        "id": "E4bYDUirSHyb"
      },
      "source": [
        "from scipy import stats\n"
      ],
      "execution_count": 1,
      "outputs": []
    },
    {
      "cell_type": "code",
      "metadata": {
        "colab": {
          "base_uri": "https://localhost:8080/"
        },
        "id": "utln2W01SOG0",
        "outputId": "9e87cf9b-6f32-4b48-a667-c69fc083c7de"
      },
      "source": [
        "stats.norm.cdf(70,loc=60,scale=10)"
      ],
      "execution_count": 2,
      "outputs": [
        {
          "output_type": "execute_result",
          "data": {
            "text/plain": [
              "0.8413447460685429"
            ]
          },
          "metadata": {},
          "execution_count": 2
        }
      ]
    },
    {
      "cell_type": "markdown",
      "metadata": {
        "id": "_-nSVlaTSiDX"
      },
      "source": [
        "this formula is for value p(x<=value)\n",
        "in the above example value=70, mean = 10, std=10\n"
      ]
    },
    {
      "cell_type": "code",
      "metadata": {
        "colab": {
          "base_uri": "https://localhost:8080/"
        },
        "id": "PhQA0OGLSNgv",
        "outputId": "8b6cbe14-86e3-4c9d-e781-f5599db9fd29"
      },
      "source": [
        "stats.norm.cdf(680,loc=711,scale=29)"
      ],
      "execution_count": 4,
      "outputs": [
        {
          "output_type": "execute_result",
          "data": {
            "text/plain": [
              "0.14254260383881612"
            ]
          },
          "metadata": {},
          "execution_count": 4
        }
      ]
    },
    {
      "cell_type": "code",
      "metadata": {
        "colab": {
          "base_uri": "https://localhost:8080/"
        },
        "id": "XApzdZMcTc3f",
        "outputId": "99fc0c17-b1e8-4210-a0f8-72edcfdfff09"
      },
      "source": [
        "stats.norm.cdf(740,loc=711,scale=29)"
      ],
      "execution_count": 8,
      "outputs": [
        {
          "output_type": "execute_result",
          "data": {
            "text/plain": [
              "0.8413447460685429"
            ]
          },
          "metadata": {},
          "execution_count": 8
        }
      ]
    },
    {
      "cell_type": "code",
      "metadata": {
        "id": "1xzp25OWUuJU"
      },
      "source": [
        ""
      ],
      "execution_count": null,
      "outputs": []
    },
    {
      "cell_type": "code",
      "metadata": {
        "colab": {
          "base_uri": "https://localhost:8080/"
        },
        "id": "A9S-NcCQUIKB",
        "outputId": "c586d8c9-245f-454b-a7be-10f5945b9bd9"
      },
      "source": [
        "stats.norm.cdf([680,740],loc=711,scale=29)\n"
      ],
      "execution_count": 7,
      "outputs": [
        {
          "output_type": "execute_result",
          "data": {
            "text/plain": [
              "array([0.1425426 , 0.84134475])"
            ]
          },
          "metadata": {},
          "execution_count": 7
        }
      ]
    },
    {
      "cell_type": "code",
      "metadata": {
        "colab": {
          "base_uri": "https://localhost:8080/"
        },
        "id": "6FPOErI1UvyQ",
        "outputId": "79328a1a-9a9a-47be-91b7-e3bc5841cb34"
      },
      "source": [
        "stats.norm.cdf(740,711,29)-stats.norm.cdf(680,711,29)\n"
      ],
      "execution_count": 9,
      "outputs": [
        {
          "output_type": "execute_result",
          "data": {
            "text/plain": [
              "0.6988021422297268"
            ]
          },
          "metadata": {},
          "execution_count": 9
        }
      ]
    }
  ]
}